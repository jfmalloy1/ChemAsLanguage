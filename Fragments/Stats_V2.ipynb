{
 "cells": [
  {
   "cell_type": "code",
   "execution_count": 2,
   "metadata": {},
   "outputs": [],
   "source": [
    "import powerlaw\n",
    "import scipy.stats as stats\n",
    "import numpy as np\n",
    "import matplotlib.pyplot as plt\n",
    "import pandas as pd\n",
    "import os\n",
    "from sklearn.preprocessing import minmax_scale\n",
    "import random\n"
   ]
  },
  {
   "cell_type": "code",
   "execution_count": 3,
   "metadata": {},
   "outputs": [],
   "source": [
    "#Read in csv files\n",
    "onek_fp = \"Biology/Data/KEGG_Samples/KEGG_fragments_1000cpds_occurances.csv\"\n",
    "twok_fp = \"Biology/Data/KEGG_Samples/KEGG_fragments_2000cpds_occurances.csv\"\n",
    "threek_fp = \"Biology/Data/KEGG_Samples/KEGG_fragments_3000cpds_occurances.csv\"\n",
    "fourk_fp = \"Biology/Data/KEGG_Samples/KEGG_fragments_4000cpds_occurances.csv\"\n",
    "all_fp = \"Biology/Data/KEGG_Samples/KEGG_fragments_full_occurances_t01_smarts_unique.csv\"\n",
    "sample_labels = {\"Biology/Data/KEGG_Samples/KEGG_fragments_1000cpds_occurances.csv\": \"1k Samples\",\n",
    "                \"Biology/Data/KEGG_Samples/KEGG_fragments_2000cpds_occurances.csv\": \"2k Samples\",\n",
    "                \"Biology/Data/KEGG_Samples/KEGG_fragments_3000cpds_occurances.csv\": \"3k Samples\",\n",
    "                \"Biology/Data/KEGG_Samples/KEGG_fragments_4000cpds_occurances.csv\": \"4k Samples\",\n",
    "                \"Biology/Data/KEGG_Samples/KEGG_fragments_full_occurances_t01_smarts_unique.csv\": \"Full KEGG\"}"
   ]
  },
  {
   "cell_type": "code",
   "execution_count": 4,
   "metadata": {},
   "outputs": [
    {
     "name": "stderr",
     "output_type": "stream",
     "text": [
      "Calculating best minimal value for power law fit\n",
      "/Users/John/anaconda2/lib/python2.7/site-packages/powerlaw.py:700: RuntimeWarning: invalid value encountered in divide\n",
      "  (Theoretical_CDF * (1 - Theoretical_CDF))\n"
     ]
    },
    {
     "name": "stdout",
     "output_type": "stream",
     "text": [
      "3.613439487971086\n",
      "1178.0\n",
      "(0.03616701269175682, 0.7950350434866902)\n"
     ]
    }
   ],
   "source": [
    "#Power law fits\n",
    "full_df = pd.read_csv(all_fp)\n",
    "results = powerlaw.Fit(full_df[\"Occurances\"].tolist())\n",
    "print(results.power_law.alpha)\n",
    "print(results.power_law.xmin)\n",
    "R, p = results.distribution_compare('power_law', 'lognormal')\n",
    "print(R, p) #R is negative if the second fit is better, p is significant value for that direction)"
   ]
  },
  {
   "cell_type": "code",
   "execution_count": 5,
   "metadata": {},
   "outputs": [
    {
     "data": {
      "text/plain": [
       "<matplotlib.legend.Legend at 0x1a1a840750>"
      ]
     },
     "execution_count": 5,
     "metadata": {},
     "output_type": "execute_result"
    },
    {
     "data": {
      "image/png": "[encoded data removed]",
      "text/plain": [
       "<Figure size 432x288 with 1 Axes>"
      ]
     },
     "metadata": {
      "needs_background": "light"
     },
     "output_type": "display_data"
    }
   ],
   "source": [
    "#Power law plotting\n",
    "powerlaw.plot_pdf(full_df[\"Occurances\"].tolist(), color=\"b\", marker=\"o\", label=\"Full KEGG Occurences\")\n",
    "results.plot_pdf(color=\"r\", linewidth=2, label=\"Modeled Power Law Fit\")\n",
    "plt.xlabel(\"Frquency\")\n",
    "plt.ylabel(\"PowerLaw fit\")\n",
    "plt.legend()"
   ]
  },
  {
   "cell_type": "code",
   "execution_count": 8,
   "metadata": {},
   "outputs": [],
   "source": [
    "#Distribution fits\n",
    "def find_best_distribution(data):\n",
    "  dist_names = ['powerlaw','weibull_min','norm','weibull_max','beta',\n",
    "              'invgauss','uniform','gamma','expon',   \n",
    "              'lognorm','pearson3','triang']\n",
    "\n",
    "  chi_square_statistics = []\n",
    "  # 11 equi-distant bins of observed Data \n",
    "  percentile_bins = np.linspace(0,100,11)\n",
    "  percentile_cutoffs = np.percentile(data, percentile_bins)\n",
    "  observed_frequency, bins = (np.histogram(data, bins=percentile_cutoffs))\n",
    "  cum_observed_frequency = np.cumsum(observed_frequency)\n",
    "\n",
    "  # Loop through candidate distributions\n",
    "  for distribution in dist_names:\n",
    "      # Set up distribution and get fitted distribution parameters\n",
    "      dist = getattr(stats, distribution)\n",
    "      param = dist.fit(data)\n",
    "      #print(\"{}\\n{}\\n\".format(dist, param))\n",
    "\n",
    "\n",
    "      # Get expected counts in percentile bins\n",
    "      # cdf of fitted sistrinution across bins\n",
    "      cdf_fitted = dist.cdf(percentile_cutoffs, *param)\n",
    "      expected_frequency = []\n",
    "      for bin in range(len(percentile_bins)-1):\n",
    "          expected_cdf_area = cdf_fitted[bin+1] - cdf_fitted[bin]\n",
    "          expected_frequency.append(expected_cdf_area)\n",
    "\n",
    "      # Chi-square Statistics\n",
    "      expected_frequency = np.array(expected_frequency) * len(data)\n",
    "      cum_expected_frequency = np.cumsum(expected_frequency)\n",
    "      ss = sum (((cum_expected_frequency - cum_observed_frequency) ** 2) / cum_observed_frequency)\n",
    "      chi_square_statistics.append(ss)\n",
    "\n",
    "\n",
    "  #Sort by minimum ch-square statistics\n",
    "  results = pd.DataFrame()\n",
    "  results['Distribution'] = dist_names\n",
    "  results['chi_square'] = chi_square_statistics\n",
    "  results.sort_values(['chi_square'], inplace=True)\n",
    "\n",
    "\n",
    "  print ('\\nDistributions listed by Betterment of fit:')\n",
    "  print ('............................................')\n",
    "  print (results)\n"
   ]
  },
  {
   "cell_type": "code",
   "execution_count": 9,
   "metadata": {},
   "outputs": [
    {
     "name": "stdout",
     "output_type": "stream",
     "text": [
      "\n",
      "Distributions listed by Betterment of fit:\n",
      "............................................\n",
      "   Distribution    chi_square\n",
      "9       lognorm  1.772369e+03\n",
      "5      invgauss  1.069646e+04\n",
      "4          beta  2.611699e+04\n",
      "10     pearson3  2.707349e+04\n",
      "1   weibull_min  9.829166e+04\n",
      "8         expon  4.194494e+05\n",
      "0      powerlaw  5.241450e+05\n",
      "2          norm  1.972218e+06\n",
      "7         gamma  2.741184e+06\n",
      "11       triang  2.896768e+06\n",
      "6       uniform  2.959818e+06\n",
      "3   weibull_max  3.049720e+06\n"
     ]
    }
   ],
   "source": [
    "for fp in [all_fp]:#[onek_fp, twok_fp, threek_fp, fourk_fp]:\n",
    "    df = pd.read_csv(fp) \n",
    "    find_best_distribution(df[\"Occurances\"].tolist())"
   ]
  },
  {
   "cell_type": "code",
   "execution_count": 13,
   "metadata": {},
   "outputs": [
    {
     "ename": "ValueError",
     "evalue": "lognormal is not a valid distribution name",
     "output_type": "error",
     "traceback": [
      "\u001b[0;31m---------------------------------------------------------------------------\u001b[0m",
      "\u001b[0;31mValueError\u001b[0m                                Traceback (most recent call last)",
      "\u001b[0;32m<ipython-input-13-e785641bb90a>\u001b[0m in \u001b[0;36m<module>\u001b[0;34m()\u001b[0m\n\u001b[1;32m      2\u001b[0m \u001b[0mfig\u001b[0m \u001b[0;34m=\u001b[0m \u001b[0mplt\u001b[0m\u001b[0;34m.\u001b[0m\u001b[0mfigure\u001b[0m\u001b[0;34m(\u001b[0m\u001b[0;34m)\u001b[0m\u001b[0;34m\u001b[0m\u001b[0m\n\u001b[1;32m      3\u001b[0m \u001b[0max\u001b[0m \u001b[0;34m=\u001b[0m \u001b[0mfig\u001b[0m\u001b[0;34m.\u001b[0m\u001b[0madd_subplot\u001b[0m\u001b[0;34m(\u001b[0m\u001b[0;36m111\u001b[0m\u001b[0;34m)\u001b[0m\u001b[0;34m\u001b[0m\u001b[0m\n\u001b[0;32m----> 4\u001b[0;31m \u001b[0mres\u001b[0m \u001b[0;34m=\u001b[0m \u001b[0mstats\u001b[0m\u001b[0;34m.\u001b[0m\u001b[0mprobplot\u001b[0m\u001b[0;34m(\u001b[0m\u001b[0mfull_df\u001b[0m\u001b[0;34m[\u001b[0m\u001b[0;34m\"Occurances\"\u001b[0m\u001b[0;34m]\u001b[0m\u001b[0;34m,\u001b[0m \u001b[0mdist\u001b[0m\u001b[0;34m=\u001b[0m\u001b[0;34m\"lognormal\"\u001b[0m\u001b[0;34m,\u001b[0m \u001b[0mplot\u001b[0m\u001b[0;34m=\u001b[0m\u001b[0max\u001b[0m\u001b[0;34m,\u001b[0m \u001b[0msparams\u001b[0m\u001b[0;34m=\u001b[0m\u001b[0;34m(\u001b[0m\u001b[0;36m1\u001b[0m\u001b[0;34m,\u001b[0m\u001b[0;34m)\u001b[0m\u001b[0;34m)\u001b[0m\u001b[0;34m\u001b[0m\u001b[0m\n\u001b[0m\u001b[1;32m      5\u001b[0m \u001b[0;31m#//TODO: what is this shape parameter? (and why does 1 work so well)\u001b[0m\u001b[0;34m\u001b[0m\u001b[0;34m\u001b[0m\u001b[0m\n\u001b[1;32m      6\u001b[0m \u001b[0max\u001b[0m\u001b[0;34m.\u001b[0m\u001b[0mset_title\u001b[0m\u001b[0;34m(\u001b[0m\u001b[0;34m\"Probplot for Full KEGG Data with lognormal distribution with shape parameter 1\"\u001b[0m\u001b[0;34m)\u001b[0m\u001b[0;34m\u001b[0m\u001b[0m\n",
      "\u001b[0;32m/Users/John/anaconda2/lib/python2.7/site-packages/scipy/stats/morestats.pyc\u001b[0m in \u001b[0;36mprobplot\u001b[0;34m(x, sparams, dist, fit, plot, rvalue)\u001b[0m\n\u001b[1;32m    590\u001b[0m \u001b[0;34m\u001b[0m\u001b[0m\n\u001b[1;32m    591\u001b[0m     \u001b[0mosm_uniform\u001b[0m \u001b[0;34m=\u001b[0m \u001b[0m_calc_uniform_order_statistic_medians\u001b[0m\u001b[0;34m(\u001b[0m\u001b[0mlen\u001b[0m\u001b[0;34m(\u001b[0m\u001b[0mx\u001b[0m\u001b[0;34m)\u001b[0m\u001b[0;34m)\u001b[0m\u001b[0;34m\u001b[0m\u001b[0m\n\u001b[0;32m--> 592\u001b[0;31m     \u001b[0mdist\u001b[0m \u001b[0;34m=\u001b[0m \u001b[0m_parse_dist_kw\u001b[0m\u001b[0;34m(\u001b[0m\u001b[0mdist\u001b[0m\u001b[0;34m,\u001b[0m \u001b[0menforce_subclass\u001b[0m\u001b[0;34m=\u001b[0m\u001b[0mFalse\u001b[0m\u001b[0;34m)\u001b[0m\u001b[0;34m\u001b[0m\u001b[0m\n\u001b[0m\u001b[1;32m    593\u001b[0m     \u001b[0;32mif\u001b[0m \u001b[0msparams\u001b[0m \u001b[0;32mis\u001b[0m \u001b[0mNone\u001b[0m\u001b[0;34m:\u001b[0m\u001b[0;34m\u001b[0m\u001b[0m\n\u001b[1;32m    594\u001b[0m         \u001b[0msparams\u001b[0m \u001b[0;34m=\u001b[0m \u001b[0;34m(\u001b[0m\u001b[0;34m)\u001b[0m\u001b[0;34m\u001b[0m\u001b[0m\n",
      "\u001b[0;32m/Users/John/anaconda2/lib/python2.7/site-packages/scipy/stats/morestats.pyc\u001b[0m in \u001b[0;36m_parse_dist_kw\u001b[0;34m(dist, enforce_subclass)\u001b[0m\n\u001b[1;32m    442\u001b[0m             \u001b[0mdist\u001b[0m \u001b[0;34m=\u001b[0m \u001b[0mgetattr\u001b[0m\u001b[0;34m(\u001b[0m\u001b[0mdistributions\u001b[0m\u001b[0;34m,\u001b[0m \u001b[0mdist\u001b[0m\u001b[0;34m)\u001b[0m\u001b[0;34m\u001b[0m\u001b[0m\n\u001b[1;32m    443\u001b[0m         \u001b[0;32mexcept\u001b[0m \u001b[0mAttributeError\u001b[0m\u001b[0;34m:\u001b[0m\u001b[0;34m\u001b[0m\u001b[0m\n\u001b[0;32m--> 444\u001b[0;31m             \u001b[0;32mraise\u001b[0m \u001b[0mValueError\u001b[0m\u001b[0;34m(\u001b[0m\u001b[0;34m\"%s is not a valid distribution name\"\u001b[0m \u001b[0;34m%\u001b[0m \u001b[0mdist\u001b[0m\u001b[0;34m)\u001b[0m\u001b[0;34m\u001b[0m\u001b[0m\n\u001b[0m\u001b[1;32m    445\u001b[0m     \u001b[0;32melif\u001b[0m \u001b[0menforce_subclass\u001b[0m\u001b[0;34m:\u001b[0m\u001b[0;34m\u001b[0m\u001b[0m\n\u001b[1;32m    446\u001b[0m         msg = (\"`dist` should be a stats.distributions instance or a string \"\n",
      "\u001b[0;31mValueError\u001b[0m: lognormal is not a valid distribution name"
     ]
    },
    {
     "data": {
      "image/png": "[encoded data removed]",
      "text/plain": [
       "<Figure size 432x288 with 1 Axes>"
      ]
     },
     "metadata": {
      "needs_background": "light"
     },
     "output_type": "display_data"
    }
   ],
   "source": [
    "#Probplot of lognormal distribution\n",
    "fig = plt.figure()\n",
    "ax = fig.add_subplot(111)\n",
    "res = stats.probplot(full_df[\"Occurances\"], dist=\"lognormal\", plot=ax, sparams=(1,))\n",
    "#//TODO: what is this shape parameter? (and why does 1 work so well)\n",
    "ax.set_title(\"Probplot for Full KEGG Data with lognormal distribution with shape parameter 1\")\n",
    "plt.show()"
   ]
  },
  {
   "cell_type": "markdown",
   "metadata": {},
   "source": [
    "# Distribution Comparisons\n",
    "KS & Anderson-Darling tests"
   ]
  },
  {
   "cell_type": "code",
   "execution_count": 2,
   "metadata": {},
   "outputs": [],
   "source": [
    "onek_fp = \"Biology/Data/KEGG_Samples/KEGG_fragments_1000cpds_occurances.csv\"\n",
    "onek_df = pd.read_csv(onek_fp)\n",
    "\n",
    "twok_fp = \"Biology/Data/KEGG_Samples/KEGG_fragments_2000cpds_occurances.csv\"\n",
    "twok_df = pd.read_csv(twok_fp)\n",
    "\n",
    "threek_fp = \"Biology/Data/KEGG_Samples/KEGG_fragments_3000cpds_occurances.csv\"\n",
    "threek_df = pd.read_csv(threek_fp)\n",
    "\n",
    "fourk_fp = \"Biology/Data/KEGG_Samples/KEGG_fragments_4000cpds_occurances.csv\"\n",
    "fourk_df = pd.read_csv(fourk_fp)\n",
    "\n",
    "fivek_fp = \"Biology/Data/KEGG_Samples/KEGG_fragments_5000cpds_occurances.csv\"\n",
    "fivek_df = pd.read_csv(fivek_fp)"
   ]
  },
  {
   "cell_type": "code",
   "execution_count": 3,
   "metadata": {},
   "outputs": [
    {
     "name": "stdout",
     "output_type": "stream",
     "text": [
      "KS\n",
      "Ks_2sampResult(statistic=0.15312247343239316, pvalue=0.0)\n",
      "Anderson Darling\n",
      "Anderson_ksampResult(statistic=2437.0141266109986, critical_values=array([0.325, 1.226, 1.961, 2.718, 3.752]), significance_level=inf)\n"
     ]
    },
    {
     "name": "stderr",
     "output_type": "stream",
     "text": [
      "/Users/John/anaconda2/lib/python2.7/site-packages/scipy/stats/morestats.py:1680: UserWarning: approximate p-value will be computed by extrapolation\n",
      "  warnings.warn(\"approximate p-value will be computed by extrapolation\")\n"
     ]
    }
   ],
   "source": [
    "#1k and 4k\n",
    "print(\"KS\")\n",
    "print(stats.ks_2samp(onek_df[\"Occurances\"], fourk_df[\"Occurances\"]))\n",
    "print(\"Anderson Darling\")\n",
    "print(stats.anderson_ksamp([onek_df[\"Occurances\"].tolist(), fourk_df[\"Occurances\"].tolist()]))"
   ]
  },
  {
   "cell_type": "code",
   "execution_count": 18,
   "metadata": {},
   "outputs": [
    {
     "name": "stdout",
     "output_type": "stream",
     "text": [
      "KS\n",
      "Ks_2sampResult(statistic=0.03063985937499636, pvalue=3.8950466305907957e-60)\n",
      "Anderson Darling\n",
      "Anderson_ksampResult(statistic=249.64374974878888, critical_values=array([0.325, 1.226, 1.961, 2.718, 3.752]), significance_level=inf)\n"
     ]
    }
   ],
   "source": [
    "#3k and 4k\n",
    "print(\"KS\")\n",
    "print(stats.ks_2samp(threek_df[\"Occurances\"], fourk_df[\"Occurances\"]))\n",
    "print(\"Anderson Darling\")\n",
    "print(stats.anderson_ksamp([threek_df[\"Occurances\"].tolist(), fourk_df[\"Occurances\"].tolist()]))"
   ]
  },
  {
   "cell_type": "code",
   "execution_count": 4,
   "metadata": {},
   "outputs": [
    {
     "name": "stdout",
     "output_type": "stream",
     "text": [
      "KS\n",
      "Ks_2sampResult(statistic=0.03057877608518339, pvalue=5.059552959783144e-83)\n",
      "Anderson Darling\n",
      "Anderson_ksampResult(statistic=389.37909519917815, critical_values=array([0.325, 1.226, 1.961, 2.718, 3.752]), significance_level=inf)\n"
     ]
    }
   ],
   "source": [
    "#4k and 5k\n",
    "print(\"KS\")\n",
    "print(stats.ks_2samp(fourk_df[\"Occurances\"], fivek_df[\"Occurances\"]))\n",
    "print(\"Anderson Darling\")\n",
    "print(stats.anderson_ksamp([fourk_df[\"Occurances\"].tolist(), fivek_df[\"Occurances\"].tolist()]))"
   ]
  },
  {
   "cell_type": "markdown",
   "metadata": {},
   "source": [
    "# Timeout Test comparisons"
   ]
  },
  {
   "cell_type": "code",
   "execution_count": 12,
   "metadata": {},
   "outputs": [
    {
     "name": "stdout",
     "output_type": "stream",
     "text": [
      "['Biology/Data/Tests/Timeout/KEGG_fragments_1000samples_timeout1_iter0smarts_unique_occurances.csv', 'Biology/Data/Tests/Timeout/KEGG_fragments_1000samples_timeout1_iter1smarts_unique_occurances.csv', 'Biology/Data/Tests/Timeout/KEGG_fragments_1000samples_timeout1_iter2smarts_unique_occurances.csv', 'Biology/Data/Tests/Timeout/KEGG_fragments_1000samples_timeout1_iter3smarts_unique_occurances.csv', 'Biology/Data/Tests/Timeout/KEGG_fragments_1000samples_timeout1_iter4smarts_unique_occurances.csv', 'Biology/Data/Tests/Timeout/KEGG_fragments_1000samples_timeout1_iter5smarts_unique_occurances.csv', 'Biology/Data/Tests/Timeout/KEGG_fragments_1000samples_timeout1_iter6smarts_unique_occurances.csv', 'Biology/Data/Tests/Timeout/KEGG_fragments_1000samples_timeout1_iter7smarts_unique_occurances.csv', 'Biology/Data/Tests/Timeout/KEGG_fragments_1000samples_timeout1_iter8smarts_unique_occurances.csv', 'Biology/Data/Tests/Timeout/KEGG_fragments_1000samples_timeout1_iter9smarts_unique_occurances.csv']\n"
     ]
    }
   ],
   "source": [
    "#Compare variations within timeout parameters - using Welch's t-test & KS test on random combinations\n",
    "t0_001_files = []\n",
    "t0_01_files =[]\n",
    "t0_1_files = []\n",
    "t1_files = []\n",
    "for f in os.listdir(\"Biology/Data/Tests/Timeout/\"):\n",
    "    if \"0_001_\" in f and f.endswith(\".csv\"):\n",
    "        t0_001_files.append(\"Biology/Data/Tests/Timeout/\" + f)\n",
    "    elif \"0_01_\" in f and f.endswith(\".csv\"):\n",
    "        t0_01_files.append(\"Biology/Data/Tests/Timeout/\" + f)\n",
    "    elif \"0_1_\" in f and f.endswith(\".csv\"):\n",
    "        t0_1_files.append(\"Biology/Data/Tests/Timeout/\" + f)\n",
    "    elif \"t1_\" in f and f.endswith(\".csv\"):\n",
    "        t1_files.append(\"Biology/Data/Tests/Timeout/\" + f)\n",
    "        \n",
    "            \n",
    "#print(t0_001_files)\n",
    "print(t1_files)\n",
    "#             df = pd.read_csv(\"Biology/Data/Tests/Timeout/\" + f)\n",
    "#             occurances = df[\"Occurances\"].tolist()\n",
    "#             print(len(occurances))\n",
    "            \n",
    "#             #x & y vals, all normalized to 1\n",
    "#             yvals = sorted(list(map(int, occurances)), reverse=True)\n",
    "#             yvals = minmax_scale(yvals) #Normalize yvals to 1\n",
    "#             print(len(yvals))\n",
    "#             xvals = np.linspace(0, 1, num=len(yvals))\n",
    "#             print(len(xvals))"
   ]
  },
  {
   "cell_type": "code",
   "execution_count": 21,
   "metadata": {},
   "outputs": [],
   "source": [
    "def load_occurances(fp):\n",
    "    df = pd.read_csv(fp)\n",
    "    return df[\"Occurances\"].tolist()"
   ]
  },
  {
   "cell_type": "code",
   "execution_count": 26,
   "metadata": {},
   "outputs": [
    {
     "name": "stdout",
     "output_type": "stream",
     "text": [
      "('Biology/Data/Tests/Timeout/KEGG_fragments_1000samples_timeout0_01_iter1smarts_unique_occurances.csv', 'Biology/Data/Tests/Timeout/KEGG_fragments_1000samples_timeout0_01_iter2smarts_unique_occurances.csv')\n",
      "(0.1086126701544121, 0.9135101062685348)\n",
      "(0.0, 1.0)\n",
      "('Biology/Data/Tests/Timeout/KEGG_fragments_1000samples_timeout0_01_iter8smarts_unique_occurances.csv', 'Biology/Data/Tests/Timeout/KEGG_fragments_1000samples_timeout0_01_iter9smarts_unique_occurances.csv')\n",
      "(-0.6080086523565897, 0.5431845648056115)\n",
      "(0.0, 1.0)\n",
      "('Biology/Data/Tests/Timeout/KEGG_fragments_1000samples_timeout0_01_iter8smarts_unique_occurances.csv', 'Biology/Data/Tests/Timeout/KEGG_fragments_1000samples_timeout0_01_iter1smarts_unique_occurances.csv')\n",
      "(6.595579068039138, 4.2771158518473946e-11)\n",
      "(0.0, 1.0)\n",
      "('Biology/Data/Tests/Timeout/KEGG_fragments_1000samples_timeout0_01_iter6smarts_unique_occurances.csv', 'Biology/Data/Tests/Timeout/KEGG_fragments_1000samples_timeout0_01_iter4smarts_unique_occurances.csv')\n",
      "(-0.3528631984171171, 0.724192341631227)\n",
      "(0.0, 1.0)\n",
      "('Biology/Data/Tests/Timeout/KEGG_fragments_1000samples_timeout0_01_iter4smarts_unique_occurances.csv', 'Biology/Data/Tests/Timeout/KEGG_fragments_1000samples_timeout0_01_iter2smarts_unique_occurances.csv')\n",
      "(2.148467239101781, 0.031680846386269404)\n",
      "(0.0, 1.0)\n",
      "('Biology/Data/Tests/Timeout/KEGG_fragments_1000samples_timeout0_01_iter0smarts_unique_occurances.csv', 'Biology/Data/Tests/Timeout/KEGG_fragments_1000samples_timeout0_01_iter6smarts_unique_occurances.csv')\n",
      "(-1.0488532773898267, 0.29425035109510017)\n",
      "(0.0, 1.0)\n",
      "('Biology/Data/Tests/Timeout/KEGG_fragments_1000samples_timeout0_01_iter6smarts_unique_occurances.csv', 'Biology/Data/Tests/Timeout/KEGG_fragments_1000samples_timeout0_01_iter8smarts_unique_occurances.csv')\n",
      "(-5.082770119327726, 3.7327742988584056e-07)\n",
      "(0.0, 1.0)\n",
      "('Biology/Data/Tests/Timeout/KEGG_fragments_1000samples_timeout0_01_iter9smarts_unique_occurances.csv', 'Biology/Data/Tests/Timeout/KEGG_fragments_1000samples_timeout0_01_iter1smarts_unique_occurances.csv')\n",
      "(7.167243660313716, 7.760228763258706e-13)\n",
      "(0.0, 1.0)\n",
      "('Biology/Data/Tests/Timeout/KEGG_fragments_1000samples_timeout0_01_iter9smarts_unique_occurances.csv', 'Biology/Data/Tests/Timeout/KEGG_fragments_1000samples_timeout0_01_iter5smarts_unique_occurances.csv')\n",
      "(6.090216153790502, 1.1360454864908893e-09)\n",
      "(0.0, 1.0)\n",
      "('Biology/Data/Tests/Timeout/KEGG_fragments_1000samples_timeout0_01_iter7smarts_unique_occurances.csv', 'Biology/Data/Tests/Timeout/KEGG_fragments_1000samples_timeout0_01_iter1smarts_unique_occurances.csv')\n",
      "(7.28640050349308, 3.229387195630102e-13)\n",
      "(0.0, 1.0)\n"
     ]
    }
   ],
   "source": [
    "#Get random combinations of files\n",
    "for i in range(10):\n",
    "    f1, f2 = random.sample(t0_01_files, 2)\n",
    "    print(f1, f2)\n",
    "    o1 = load_occurances(f1)\n",
    "    o2 = load_occurances(f2)\n",
    "    \n",
    "    s, p = stats.ttest_ind(o1, o2, equal_var=False)\n",
    "    ks_s, ks_p = stats.ks_2samp(o1, o1)\n",
    "    print(s, p)\n",
    "    print(ks_s, ks_p)"
   ]
  },
  {
   "cell_type": "code",
   "execution_count": 29,
   "metadata": {},
   "outputs": [
    {
     "name": "stdout",
     "output_type": "stream",
     "text": [
      "['Biology/Data/Tests/Timeout/KEGG_fragments_1000samples_timeout0_001_iter2smarts_unique_occurances.csv']\n"
     ]
    }
   ],
   "source": [
    "#Differences between avg distributions for all timeout parameters (especially between 0.001 and others)\n",
    "f_001 = random.sample(t0_001_files, 1)\n",
    "o_001 = load_occurances(f_001[0])\n",
    "\n",
    "f_01 = random.sample(t0_01_files, 1)\n",
    "o_01 = load_occurances(f_01[0])\n",
    "\n",
    "f_1 = random.sample(t0_1_files, 1)\n",
    "o_1 = load_occurances(f_1[0])\n",
    "\n",
    "f1 = random.sample(t1_files, 1)\n",
    "o1 = load_occurances(f1[0])"
   ]
  },
  {
   "cell_type": "code",
   "execution_count": 33,
   "metadata": {},
   "outputs": [
    {
     "name": "stdout",
     "output_type": "stream",
     "text": [
      "Ks_2sampResult(statistic=0.3032361963407073, pvalue=8.671236697759973e-269)\n",
      "Ks_2sampResult(statistic=0.27286495526157156, pvalue=3.531107309471674e-218)\n",
      "Ks_2sampResult(statistic=0.17944151921048712, pvalue=1.351031888593377e-91)\n"
     ]
    }
   ],
   "source": [
    "#KS between 0.001 and 1\n",
    "print(stats.ks_2samp(o_001, o1))\n",
    "\n",
    "#Between 0.001 and 0.1\n",
    "print(stats.ks_2samp(o_001, o_1))\n",
    "\n",
    "#Between 0.001 and 0.01\n",
    "print(stats.ks_2samp(o_001, o_01))"
   ]
  },
  {
   "cell_type": "code",
   "execution_count": 34,
   "metadata": {},
   "outputs": [
    {
     "name": "stdout",
     "output_type": "stream",
     "text": [
      "Ks_2sampResult(statistic=0.17934838374163242, pvalue=0.0)\n",
      "Ks_2sampResult(statistic=0.1339932109549064, pvalue=1.9606336573632535e-221)\n"
     ]
    }
   ],
   "source": [
    "#KS between 0.01 and 1\n",
    "print(stats.ks_2samp(o_01, o1))\n",
    "\n",
    "#Between 0.01 and 0.1\n",
    "print(stats.ks_2samp(o_01, o_1))"
   ]
  },
  {
   "cell_type": "code",
   "execution_count": 35,
   "metadata": {},
   "outputs": [
    {
     "name": "stdout",
     "output_type": "stream",
     "text": [
      "Ks_2sampResult(statistic=0.04818362428297451, pvalue=2.7974592049033237e-33)\n"
     ]
    }
   ],
   "source": [
    "#KS between 0.1 and 1\n",
    "print(stats.ks_2samp(o_1, o1))"
   ]
  }
 ],
 "metadata": {
  "kernelspec": {
   "display_name": "Python 3",
   "language": "python",
   "name": "python3"
  },
  "language_info": {
   "codemirror_mode": {
    "name": "ipython",
    "version": 2
   },
   "file_extension": ".py",
   "mimetype": "text/x-python",
   "name": "python",
   "nbconvert_exporter": "python",
   "pygments_lexer": "ipython2",
   "version": "2.7.15"
  }
 },
 "nbformat": 4,
 "nbformat_minor": 2
}
