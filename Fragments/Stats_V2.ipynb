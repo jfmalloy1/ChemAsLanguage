{
 "cells": [
  {
   "cell_type": "code",
   "execution_count": 1,
   "metadata": {},
   "outputs": [],
   "source": [
    "import powerlaw\n",
    "import scipy.stats as stats\n",
    "import numpy as np\n",
    "import matplotlib.pyplot as plt\n",
    "import pandas as pd"
   ]
  },
  {
   "cell_type": "code",
   "execution_count": 12,
   "metadata": {},
   "outputs": [],
   "source": [
    "#Read in csv files\n",
    "onek_fp = \"Biology/Data/KEGG_Samples/KEGG_fragments_1000cpds_occurances.csv\"\n",
    "twok_fp = \"Biology/Data/KEGG_Samples/KEGG_fragments_2000cpds_occurances.csv\"\n",
    "threek_fp = \"Biology/Data/KEGG_Samples/KEGG_fragments_3000cpds_occurances.csv\"\n",
    "fourk_fp = \"Biology/Data/KEGG_Samples/KEGG_fragments_4000cpds_occurances.csv\"\n",
    "sample_labels = {\"Biology/Data/KEGG_Samples/KEGG_fragments_1000cpds_occurances.csv\": \"1k Samples\",\n",
    "                \"Biology/Data/KEGG_Samples/KEGG_fragments_2000cpds_occurances.csv\": \"2k Samples\",\n",
    "                \"Biology/Data/KEGG_Samples/KEGG_fragments_3000cpds_occurances.csv\": \"3k Samples\",\n",
    "                \"Biology/Data/KEGG_Samples/KEGG_fragments_4000cpds_occurances.csv\": \"4k Samples\"}"
   ]
  },
  {
   "cell_type": "code",
   "execution_count": 4,
   "metadata": {},
   "outputs": [
    {
     "name": "stderr",
     "output_type": "stream",
     "text": [
      "Calculating best minimal value for power law fit\n",
      "/Users/John/anaconda2/lib/python2.7/site-packages/powerlaw.py:700: RuntimeWarning: invalid value encountered in divide\n",
      "  (Theoretical_CDF * (1 - Theoretical_CDF))\n"
     ]
    },
    {
     "name": "stdout",
     "output_type": "stream",
     "text": [
      "2.747927338653702\n",
      "1499.0\n",
      "(-26.166045919929992, 5.700517340267158e-06)\n"
     ]
    }
   ],
   "source": [
    "#Power law fits\n",
    "results = powerlaw.Fit(archaea_df[\"Occurances\"].tolist())\n",
    "print(results.power_law.alpha)\n",
    "print(results.power_law.xmin)\n",
    "R, p = results.distribution_compare('power_law', 'lognormal')\n",
    "print(R, p) #R is negative if the second fit is better, p is significant value for that direction)"
   ]
  },
  {
   "cell_type": "code",
   "execution_count": 5,
   "metadata": {},
   "outputs": [
    {
     "data": {
      "text/plain": [
       "<matplotlib.legend.Legend at 0x1a211c35d0>"
      ]
     },
     "execution_count": 5,
     "metadata": {},
     "output_type": "execute_result"
    },
    {
     "data": {
      "image/png": "[encoded data removed]",
      "text/plain": [
       "<Figure size 432x288 with 1 Axes>"
      ]
     },
     "metadata": {
      "needs_background": "light"
     },
     "output_type": "display_data"
    }
   ],
   "source": [
    "#Power law plotting\n",
    "powerlaw.plot_pdf(archaea_df[\"Occurances\"].tolist(), color=\"b\", marker=\"o\", label=\"Archaea Occurences\")\n",
    "results.plot_pdf(color=\"r\", linewidth=2, label=\"Modeled Power Law Fit\")\n",
    "plt.xlabel(\"Frquency\")\n",
    "plt.ylabel(\"PowerLaw fit\")\n",
    "plt.legend()"
   ]
  },
  {
   "cell_type": "code",
   "execution_count": 11,
   "metadata": {},
   "outputs": [],
   "source": [
    "#Distribution fits\n",
    "def find_best_distribution(data):\n",
    "  dist_names = ['weibull_min','norm','weibull_max','beta',\n",
    "              'invgauss','uniform','gamma','expon',   \n",
    "              'lognorm','pearson3','triang']\n",
    "\n",
    "  chi_square_statistics = []\n",
    "  # 11 equi-distant bins of observed Data \n",
    "  percentile_bins = np.linspace(0,100,11)\n",
    "  percentile_cutoffs = np.percentile(data, percentile_bins)\n",
    "  observed_frequency, bins = (np.histogram(data, bins=percentile_cutoffs))\n",
    "  cum_observed_frequency = np.cumsum(observed_frequency)\n",
    "\n",
    "  # Loop through candidate distributions\n",
    "  for distribution in dist_names:\n",
    "      # Set up distribution and get fitted distribution parameters\n",
    "      dist = getattr(stats, distribution)\n",
    "      param = dist.fit(data)\n",
    "      #print(\"{}\\n{}\\n\".format(dist, param))\n",
    "\n",
    "\n",
    "      # Get expected counts in percentile bins\n",
    "      # cdf of fitted sistrinution across bins\n",
    "      cdf_fitted = dist.cdf(percentile_cutoffs, *param)\n",
    "      expected_frequency = []\n",
    "      for bin in range(len(percentile_bins)-1):\n",
    "          expected_cdf_area = cdf_fitted[bin+1] - cdf_fitted[bin]\n",
    "          expected_frequency.append(expected_cdf_area)\n",
    "\n",
    "      # Chi-square Statistics\n",
    "      expected_frequency = np.array(expected_frequency) * len(data)\n",
    "      cum_expected_frequency = np.cumsum(expected_frequency)\n",
    "      ss = sum (((cum_expected_frequency - cum_observed_frequency) ** 2) / cum_observed_frequency)\n",
    "      chi_square_statistics.append(ss)\n",
    "\n",
    "\n",
    "  #Sort by minimum ch-square statistics\n",
    "  results = pd.DataFrame()\n",
    "  results['Distribution'] = dist_names\n",
    "  results['chi_square'] = chi_square_statistics\n",
    "  results.sort_values(['chi_square'], inplace=True)\n",
    "\n",
    "\n",
    "  print ('\\nDistributions listed by Betterment of fit:')\n",
    "  print ('............................................')\n",
    "  print (results)\n"
   ]
  },
  {
   "cell_type": "code",
   "execution_count": 14,
   "metadata": {},
   "outputs": [
    {
     "name": "stdout",
     "output_type": "stream",
     "text": [
      "\n",
      "Distributions listed by Betterment of fit:\n",
      "............................................\n",
      "   Distribution     chi_square\n",
      "8       lognorm      40.121726\n",
      "4      invgauss     333.315049\n",
      "9      pearson3     723.582884\n",
      "0   weibull_min     801.896360\n",
      "3          beta    1681.341472\n",
      "7         expon   15987.940188\n",
      "1          norm   84082.106189\n",
      "10       triang  123935.023894\n",
      "5       uniform  128767.475847\n",
      "6         gamma  130142.442244\n",
      "2   weibull_max  137436.223463\n",
      "\n",
      "Distributions listed by Betterment of fit:\n",
      "............................................\n",
      "   Distribution     chi_square\n",
      "8       lognorm      26.854754\n",
      "4      invgauss     495.049195\n",
      "0   weibull_min    2012.067693\n",
      "9      pearson3   11592.783844\n",
      "7         expon   43818.192344\n",
      "3          beta   85360.653992\n",
      "1          norm  217194.056979\n",
      "10       triang  307140.912091\n",
      "6         gamma  315849.518895\n",
      "5       uniform  318806.497228\n",
      "2   weibull_max  334179.635628\n",
      "\n",
      "Distributions listed by Betterment of fit:\n",
      "............................................\n",
      "   Distribution     chi_square\n",
      "8       lognorm      56.301618\n",
      "4      invgauss     915.403239\n",
      "0   weibull_min    4434.515001\n",
      "9      pearson3   15277.120726\n",
      "3          beta   18268.598740\n",
      "7         expon   68806.306060\n",
      "1          norm  359496.409570\n",
      "10       triang  526353.810609\n",
      "6         gamma  533773.499279\n",
      "5       uniform  536549.754309\n",
      "2   weibull_max  559397.196248\n"
     ]
    },
    {
     "name": "stderr",
     "output_type": "stream",
     "text": [
      "/Users/John/anaconda2/lib/python2.7/site-packages/scipy/optimize/minpack.py:163: RuntimeWarning: The iteration is not making good progress, as measured by the \n",
      "  improvement from the last five Jacobian evaluations.\n",
      "  warnings.warn(msg, RuntimeWarning)\n"
     ]
    },
    {
     "name": "stdout",
     "output_type": "stream",
     "text": [
      "\n",
      "Distributions listed by Betterment of fit:\n",
      "............................................\n",
      "   Distribution     chi_square\n",
      "8       lognorm      79.208082\n",
      "4      invgauss    1225.763076\n",
      "3          beta   11414.811589\n",
      "0   weibull_min   15298.896170\n",
      "9      pearson3   44322.440405\n",
      "7         expon  104312.785245\n",
      "1          norm  523211.345950\n",
      "10       triang  753815.104681\n",
      "6         gamma  765782.741495\n",
      "5       uniform  775413.750219\n",
      "2   weibull_max  806119.225185\n"
     ]
    }
   ],
   "source": [
    "for fp in [onek_fp, twok_fp, threek_fp, fourk_fp]:\n",
    "    df = pd.read_csv(fp) \n",
    "    find_best_distribution(df[\"Occurances\"].tolist())"
   ]
  },
  {
   "cell_type": "code",
   "execution_count": 9,
   "metadata": {},
   "outputs": [
    {
     "data": {
      "image/png": "[encoded data removed]",
      "text/plain": [
       "<Figure size 432x288 with 1 Axes>"
      ]
     },
     "metadata": {
      "needs_background": "light"
     },
     "output_type": "display_data"
    }
   ],
   "source": [
    "#Probplot of lognormal distribution\n",
    "fig = plt.figure()\n",
    "ax = fig.add_subplot(111)\n",
    "res = stats.probplot(archaea_df[\"Occurances\"], dist=\"lognorm\", plot=ax, sparams=(1,))\n",
    "#//TODO: what is this shape parameter? (and why does 1 work so well)\n",
    "ax.set_title(\"Probplot for Archaea Data with lognormal distribution with shape parameter 1\")\n",
    "plt.show()"
   ]
  },
  {
   "cell_type": "markdown",
   "metadata": {},
   "source": [
    "# Distribution Comparisons\n",
    "KS & Anderson-Darling tests"
   ]
  },
  {
   "cell_type": "code",
   "execution_count": 2,
   "metadata": {},
   "outputs": [],
   "source": [
    "onek_fp = \"Biology/Data/KEGG_Samples/KEGG_fragments_1000cpds_occurances.csv\"\n",
    "onek_df = pd.read_csv(onek_fp)\n",
    "\n",
    "twok_fp = \"Biology/Data/KEGG_Samples/KEGG_fragments_2000cpds_occurances.csv\"\n",
    "twok_df = pd.read_csv(twok_fp)\n",
    "\n",
    "threek_fp = \"Biology/Data/KEGG_Samples/KEGG_fragments_3000cpds_occurances.csv\"\n",
    "threek_df = pd.read_csv(threek_fp)\n",
    "\n",
    "fourk_fp = \"Biology/Data/KEGG_Samples/KEGG_fragments_4000cpds_occurances.csv\"\n",
    "fourk_df = pd.read_csv(fourk_fp)\n",
    "\n",
    "fivek_fp = \"Biology/Data/KEGG_Samples/KEGG_fragments_5000cpds_occurances.csv\"\n",
    "fivek_df = pd.read_csv(fivek_fp)"
   ]
  },
  {
   "cell_type": "code",
   "execution_count": 3,
   "metadata": {},
   "outputs": [
    {
     "name": "stdout",
     "output_type": "stream",
     "text": [
      "KS\n",
      "Ks_2sampResult(statistic=0.15312247343239316, pvalue=0.0)\n",
      "Anderson Darling\n",
      "Anderson_ksampResult(statistic=2437.0141266109986, critical_values=array([0.325, 1.226, 1.961, 2.718, 3.752]), significance_level=inf)\n"
     ]
    },
    {
     "name": "stderr",
     "output_type": "stream",
     "text": [
      "/Users/John/anaconda2/lib/python2.7/site-packages/scipy/stats/morestats.py:1680: UserWarning: approximate p-value will be computed by extrapolation\n",
      "  warnings.warn(\"approximate p-value will be computed by extrapolation\")\n"
     ]
    }
   ],
   "source": [
    "#1k and 4k\n",
    "print(\"KS\")\n",
    "print(stats.ks_2samp(onek_df[\"Occurances\"], fourk_df[\"Occurances\"]))\n",
    "print(\"Anderson Darling\")\n",
    "print(stats.anderson_ksamp([onek_df[\"Occurances\"].tolist(), fourk_df[\"Occurances\"].tolist()]))"
   ]
  },
  {
   "cell_type": "code",
   "execution_count": 18,
   "metadata": {},
   "outputs": [
    {
     "name": "stdout",
     "output_type": "stream",
     "text": [
      "KS\n",
      "Ks_2sampResult(statistic=0.03063985937499636, pvalue=3.8950466305907957e-60)\n",
      "Anderson Darling\n",
      "Anderson_ksampResult(statistic=249.64374974878888, critical_values=array([0.325, 1.226, 1.961, 2.718, 3.752]), significance_level=inf)\n"
     ]
    }
   ],
   "source": [
    "#3k and 4k\n",
    "print(\"KS\")\n",
    "print(stats.ks_2samp(threek_df[\"Occurances\"], fourk_df[\"Occurances\"]))\n",
    "print(\"Anderson Darling\")\n",
    "print(stats.anderson_ksamp([threek_df[\"Occurances\"].tolist(), fourk_df[\"Occurances\"].tolist()]))"
   ]
  },
  {
   "cell_type": "code",
   "execution_count": 4,
   "metadata": {},
   "outputs": [
    {
     "name": "stdout",
     "output_type": "stream",
     "text": [
      "KS\n",
      "Ks_2sampResult(statistic=0.03057877608518339, pvalue=5.059552959783144e-83)\n",
      "Anderson Darling\n",
      "Anderson_ksampResult(statistic=389.37909519917815, critical_values=array([0.325, 1.226, 1.961, 2.718, 3.752]), significance_level=inf)\n"
     ]
    }
   ],
   "source": [
    "#4k and 5k\n",
    "print(\"KS\")\n",
    "print(stats.ks_2samp(fourk_df[\"Occurances\"], fivek_df[\"Occurances\"]))\n",
    "print(\"Anderson Darling\")\n",
    "print(stats.anderson_ksamp([fourk_df[\"Occurances\"].tolist(), fivek_df[\"Occurances\"].tolist()]))"
   ]
  }
 ],
 "metadata": {
  "kernelspec": {
   "display_name": "Python 3",
   "language": "python",
   "name": "python3"
  },
  "language_info": {
   "codemirror_mode": {
    "name": "ipython",
    "version": 2
   },
   "file_extension": ".py",
   "mimetype": "text/x-python",
   "name": "python",
   "nbconvert_exporter": "python",
   "pygments_lexer": "ipython2",
   "version": "2.7.15"
  }
 },
 "nbformat": 4,
 "nbformat_minor": 2
}
