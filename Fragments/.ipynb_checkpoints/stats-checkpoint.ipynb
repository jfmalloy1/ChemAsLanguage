{
 "cells": [
  {
   "cell_type": "code",
   "execution_count": 6,
   "metadata": {},
   "outputs": [],
   "source": [
    "import powerlaw\n",
    "import scipy.stats as stats\n",
    "import numpy as np\n",
    "import matplotlib.pyplot as plt\n",
    "import pandas as pd"
   ]
  },
  {
   "cell_type": "markdown",
   "metadata": {},
   "source": [
    "# Load distributions"
   ]
  },
  {
   "cell_type": "code",
   "execution_count": 11,
   "metadata": {},
   "outputs": [],
   "source": [
    "#Archaea\n",
    "archaea_df = pd.read_csv(\"Archaea/Archaea0_fullOccurances.csv\")\n",
    "\n",
    "#Bacteria\n",
    "bacteria_df = pd.read_csv(\"Bacteria/Bacteria0_fullOccurances.csv\")"
   ]
  },
  {
   "cell_type": "code",
   "execution_count": 12,
   "metadata": {},
   "outputs": [
    {
     "data": {
      "text/html": [
       "<div>\n",
       "<style scoped>\n",
       "    .dataframe tbody tr th:only-of-type {\n",
       "        vertical-align: middle;\n",
       "    }\n",
       "\n",
       "    .dataframe tbody tr th {\n",
       "        vertical-align: top;\n",
       "    }\n",
       "\n",
       "    .dataframe thead th {\n",
       "        text-align: right;\n",
       "    }\n",
       "</style>\n",
       "<table border=\"1\" class=\"dataframe\">\n",
       "  <thead>\n",
       "    <tr style=\"text-align: right;\">\n",
       "      <th></th>\n",
       "      <th>Frags</th>\n",
       "      <th>Occurances</th>\n",
       "    </tr>\n",
       "  </thead>\n",
       "  <tbody>\n",
       "    <tr>\n",
       "      <th>0</th>\n",
       "      <td>[#6]-[#6](=[#6]-[#6]-[#6]-[#6](-[#6]-1-[#6]-[#...</td>\n",
       "      <td>1</td>\n",
       "    </tr>\n",
       "    <tr>\n",
       "      <th>1</th>\n",
       "      <td>[#6]-[#6](-[#6](-[#8])=[#8])=[#6]-[#6]=[#6](-[...</td>\n",
       "      <td>1</td>\n",
       "    </tr>\n",
       "    <tr>\n",
       "      <th>2</th>\n",
       "      <td>[#6]-[#6](=[#6]-[#6]-[#6]-[#6](-[#6]-1-[#6]-[#...</td>\n",
       "      <td>1</td>\n",
       "    </tr>\n",
       "    <tr>\n",
       "      <th>3</th>\n",
       "      <td>[#6]-[#6](-[#6]-1-[#6]-[#6]-[#6]-2-[#6]-3-[#6]...</td>\n",
       "      <td>1</td>\n",
       "    </tr>\n",
       "    <tr>\n",
       "      <th>4</th>\n",
       "      <td>[#6]-[#6](-[#7]-[#6]-1-[#6](-[#8]-[#6](-[#6](-...</td>\n",
       "      <td>2</td>\n",
       "    </tr>\n",
       "  </tbody>\n",
       "</table>\n",
       "</div>"
      ],
      "text/plain": [
       "                                               Frags  Occurances\n",
       "0  [#6]-[#6](=[#6]-[#6]-[#6]-[#6](-[#6]-1-[#6]-[#...           1\n",
       "1  [#6]-[#6](-[#6](-[#8])=[#8])=[#6]-[#6]=[#6](-[...           1\n",
       "2  [#6]-[#6](=[#6]-[#6]-[#6]-[#6](-[#6]-1-[#6]-[#...           1\n",
       "3  [#6]-[#6](-[#6]-1-[#6]-[#6]-[#6]-2-[#6]-3-[#6]...           1\n",
       "4  [#6]-[#6](-[#7]-[#6]-1-[#6](-[#8]-[#6](-[#6](-...           2"
      ]
     },
     "execution_count": 12,
     "metadata": {},
     "output_type": "execute_result"
    }
   ],
   "source": [
    "archaea_df.head()"
   ]
  },
  {
   "cell_type": "markdown",
   "metadata": {},
   "source": [
    "# PowerLaw tests"
   ]
  },
  {
   "cell_type": "code",
   "execution_count": 19,
   "metadata": {},
   "outputs": [
    {
     "name": "stderr",
     "output_type": "stream",
     "text": [
      "Calculating best minimal value for power law fit\n"
     ]
    },
    {
     "name": "stdout",
     "output_type": "stream",
     "text": [
      "2.747927338653702\n",
      "1499.0\n",
      "(-26.166045919929992, 5.700517340267158e-06)\n"
     ]
    }
   ],
   "source": [
    "results = powerlaw.Fit(archaea_df[\"Occurances\"].tolist())\n",
    "print(results.power_law.alpha)\n",
    "print(results.power_law.xmin)\n",
    "R, p = results.distribution_compare('power_law', 'lognormal')\n",
    "print(R, p) #R is negative if the second fit is better, p is significant value for that direction)"
   ]
  },
  {
   "cell_type": "code",
   "execution_count": 18,
   "metadata": {},
   "outputs": [
    {
     "name": "stderr",
     "output_type": "stream",
     "text": [
      "Calculating best minimal value for power law fit\n"
     ]
    },
    {
     "name": "stdout",
     "output_type": "stream",
     "text": [
      "3.0274202753659405\n",
      "1756.0\n"
     ]
    }
   ],
   "source": [
    "results = powerlaw.Fit(bacteria_df[\"Occurances\"].tolist())\n",
    "print(results.power_law.alpha)\n",
    "print(results.power_law.xmin)"
   ]
  },
  {
   "cell_type": "markdown",
   "metadata": {},
   "source": [
    "# Distribution Matching\n",
    "\n",
    "Using https://towardsdatascience.com/identify-your-datas-distribution-d76062fc0802 as a guide"
   ]
  },
  {
   "cell_type": "code",
   "execution_count": 34,
   "metadata": {},
   "outputs": [],
   "source": [
    "def test_distributions(data):\n",
    "    #Distribution names to test\n",
    "    dist_names = ['weibull_min','norm','weibull_max','beta',\n",
    "                  'invgauss','uniform','gamma','expon',   \n",
    "                  'lognorm','pearson3','triang', 'powerlaw']\n",
    "    \n",
    "    #Split stats into bins\n",
    "    chi_square_statistics = []\n",
    "    # 11 equi-distant bins of observed Data (John's note: probably can be more than 11)\n",
    "    percentile_bins = np.linspace(0,100,11)\n",
    "    percentile_cutoffs = np.percentile(data, percentile_bins)\n",
    "    observed_frequency, bins = (np.histogram(data, bins=percentile_cutoffs))\n",
    "    cum_observed_frequency = np.cumsum(observed_frequency)\n",
    "    \n",
    "    # Loop through candidate distributions\n",
    "    for distribution in dist_names:\n",
    "        # Set up distribution and get fitted distribution parameters\n",
    "        dist = getattr(stats, distribution)\n",
    "        param = dist.fit(data)\n",
    "        print(\"{}\\n{}\\n\".format(dist, param))\n",
    "    \n",
    "        # Get expected counts in percentile bins\n",
    "        # cdf of fitted sistrinution across bins\n",
    "        cdf_fitted = dist.cdf(percentile_cutoffs, *param)\n",
    "        expected_frequency = []\n",
    "        for bin in range(len(percentile_bins)-1):\n",
    "            expected_cdf_area = cdf_fitted[bin+1] - cdf_fitted[bin]\n",
    "            expected_frequency.append(expected_cdf_area)\n",
    "\n",
    "        # Chi-square Statistics\n",
    "        expected_frequency = np.array(expected_frequency) * len(data)\n",
    "        cum_expected_frequency = np.cumsum(expected_frequency)\n",
    "        ss = sum (((cum_expected_frequency - cum_observed_frequency) ** 2) / cum_observed_frequency)\n",
    "        chi_square_statistics.append(ss)\n",
    "\n",
    "\n",
    "    #Sort by minimum ch-square statistics\n",
    "    results = pd.DataFrame()\n",
    "    results['Distribution'] = dist_names\n",
    "    results['chi_square'] = chi_square_statistics\n",
    "    results.sort_values(['chi_square'], inplace=True)\n",
    "\n",
    "\n",
    "    print ('\\nDistributions listed by Betterment of fit:')\n",
    "    print ('............................................')\n",
    "    print (results)"
   ]
  },
  {
   "cell_type": "code",
   "execution_count": 35,
   "metadata": {},
   "outputs": [
    {
     "name": "stdout",
     "output_type": "stream",
     "text": [
      "<scipy.stats._continuous_distns.weibull_min_gen object at 0x181a56a590>\n",
      "(0.5604698290291747, 0.9999999999999998, 590.0757383211346)\n",
      "\n",
      "<scipy.stats._continuous_distns.norm_gen object at 0x181a4dca90>\n",
      "(457.8858377044122, 987.7976623115657)\n",
      "\n",
      "<scipy.stats._continuous_distns.weibull_max_gen object at 0x181a56a810>\n",
      "(0.08792276973412275, 17459.000000000004, 1.748622383233923)\n",
      "\n"
     ]
    },
    {
     "name": "stderr",
     "output_type": "stream",
     "text": [
      "/Users/John/anaconda2/lib/python2.7/site-packages/scipy/stats/_continuous_distns.py:437: RuntimeWarning: invalid value encountered in sqrt\n",
      "  sk = 2*(b-a)*np.sqrt(a + b + 1) / (a + b + 2) / np.sqrt(a*b)\n",
      "/Users/John/anaconda2/lib/python2.7/site-packages/scipy/optimize/minpack.py:163: RuntimeWarning: The iteration is not making good progress, as measured by the \n",
      "  improvement from the last ten iterations.\n",
      "  warnings.warn(msg, RuntimeWarning)\n"
     ]
    },
    {
     "name": "stdout",
     "output_type": "stream",
     "text": [
      "<scipy.stats._continuous_distns.beta_gen object at 0x181a4e9690>\n",
      "(0.7880684960418493, 1913141.200965266, 0.999999999856121, 523474393.0628367)\n",
      "\n",
      "<scipy.stats._continuous_distns.invgauss_gen object at 0x181a5a2850>\n",
      "(8.603869608101604, -7.630039376331928, 54.1053800270066)\n",
      "\n",
      "<scipy.stats._continuous_distns.uniform_gen object at 0x181a5ebf50>\n",
      "(1.0, 17458.0)\n",
      "\n",
      "<scipy.stats._continuous_distns.gamma_gen object at 0x181a587a10>\n",
      "(0.0022081690515239035, 0.9999999999999998, 4.3082750968027295)\n",
      "\n",
      "<scipy.stats._continuous_distns.expon_gen object at 0x181a5601d0>\n",
      "(1.0, 456.8858377044122)\n",
      "\n",
      "<scipy.stats._continuous_distns.lognorm_gen object at 0x181a5bd4d0>\n",
      "(1.9627788212708563, 0.9734711084920569, 102.49017517063083)\n",
      "\n",
      "<scipy.stats._continuous_distns.pearson3_gen object at 0x181a5d8790>\n",
      "(3.0514129140757262, 365.1249767628178, 555.5478282157931)\n",
      "\n",
      "<scipy.stats._continuous_distns.triang_gen object at 0x181a5eb550>\n",
      "(2.0797632071758866e-05, 0.6235132256045637, 17734.78560997493)\n",
      "\n",
      "<scipy.stats._continuous_distns.powerlaw_gen object at 0x181a5d8a10>\n",
      "(0.1943260753910597, 0.9999999999999998, 21671.634547575926)\n",
      "\n",
      "\n",
      "Distributions listed by Betterment of fit:\n",
      "............................................\n",
      "   Distribution    chi_square\n",
      "8       lognorm    213.848249\n",
      "9      pearson3    463.928723\n",
      "4      invgauss   1068.456114\n",
      "3          beta   2567.974084\n",
      "0   weibull_min   6167.933183\n",
      "11     powerlaw  11127.973937\n",
      "7         expon  16045.962274\n",
      "1          norm  57459.153970\n",
      "10       triang  76769.353684\n",
      "6         gamma  79870.398545\n",
      "5       uniform  81733.458095\n",
      "2   weibull_max  87990.418025\n"
     ]
    }
   ],
   "source": [
    "test_distributions(archaea_df[\"Occurances\"])"
   ]
  },
  {
   "cell_type": "code",
   "execution_count": 70,
   "metadata": {},
   "outputs": [
    {
     "data": {
      "image/png": "[encoded data removed]",
      "text/plain": [
       "<Figure size 432x288 with 1 Axes>"
      ]
     },
     "metadata": {
      "needs_background": "light"
     },
     "output_type": "display_data"
    }
   ],
   "source": [
    "fig = plt.figure()\n",
    "ax = fig.add_subplot(111)\n",
    "res = stats.probplot(archaea_df[\"Occurances\"], dist=\"lognorm\", plot=ax, sparams=(1,)) \n",
    "#//TODO: what is this shape parameter? (and why does 1 work so well)\n",
    "ax.set_title(\"Probplot for Archaea Data with lognormal distribution with shape parameter 1\")\n",
    "plt.show()"
   ]
  },
  {
   "cell_type": "markdown",
   "metadata": {},
   "source": [
    "# KS Tests"
   ]
  },
  {
   "cell_type": "code",
   "execution_count": 20,
   "metadata": {},
   "outputs": [
    {
     "data": {
      "text/plain": [
       "Ks_2sampResult(statistic=0.032662361819208896, pvalue=8.240777047071099e-12)"
      ]
     },
     "execution_count": 20,
     "metadata": {},
     "output_type": "execute_result"
    }
   ],
   "source": [
    "stats.ks_2samp(archaea_df[\"Occurances\"], bacteria_df[\"Occurances\"])"
   ]
  },
  {
   "cell_type": "markdown",
   "metadata": {},
   "source": [
    "# Anderson-Darling tests"
   ]
  },
  {
   "cell_type": "code",
   "execution_count": 26,
   "metadata": {},
   "outputs": [
    {
     "name": "stderr",
     "output_type": "stream",
     "text": [
      "/Users/John/anaconda2/lib/python2.7/site-packages/scipy/stats/morestats.py:1680: UserWarning: approximate p-value will be computed by extrapolation\n",
      "  warnings.warn(\"approximate p-value will be computed by extrapolation\")\n"
     ]
    },
    {
     "data": {
      "text/plain": [
       "Anderson_ksampResult(statistic=36.81967623494717, critical_values=array([0.325, 1.226, 1.961, 2.718, 3.752]), significance_level=0.006321039557320624)"
      ]
     },
     "execution_count": 26,
     "metadata": {},
     "output_type": "execute_result"
    }
   ],
   "source": [
    "stats.anderson_ksamp([archaea_df[\"Occurances\"].tolist(), bacteria_df[\"Occurances\"].tolist()])"
   ]
  }
 ],
 "metadata": {
  "kernelspec": {
   "display_name": "Python 3",
   "language": "python",
   "name": "python3"
  },
  "language_info": {
   "codemirror_mode": {
    "name": "ipython",
    "version": 2
   },
   "file_extension": ".py",
   "mimetype": "text/x-python",
   "name": "python",
   "nbconvert_exporter": "python",
   "pygments_lexer": "ipython2",
   "version": "2.7.15"
  }
 },
 "nbformat": 4,
 "nbformat_minor": 2
}
