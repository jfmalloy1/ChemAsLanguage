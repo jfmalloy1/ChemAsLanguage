{
 "cells": [
  {
   "cell_type": "code",
<<<<<<< HEAD
   "execution_count": 6,
=======
   "execution_count": 1,
>>>>>>> b83da4baf396f27183137ffc310f949fe000bcf5
   "metadata": {},
   "outputs": [],
   "source": [
    "import powerlaw\n",
    "import scipy.stats as stats\n",
    "import numpy as np\n",
    "import matplotlib.pyplot as plt\n",
    "import pandas as pd"
   ]
  },
  {
   "cell_type": "markdown",
   "metadata": {},
   "source": [
    "# Load distributions"
   ]
  },
  {
   "cell_type": "code",
<<<<<<< HEAD
   "execution_count": 11,
=======
   "execution_count": 3,
>>>>>>> b83da4baf396f27183137ffc310f949fe000bcf5
   "metadata": {},
   "outputs": [],
   "source": [
    "#Archaea\n",
<<<<<<< HEAD
    "archaea_df = pd.read_csv(\"Archaea/Archaea0_fullOccurances.csv\")\n",
    "\n",
    "#Bacteria\n",
    "bacteria_df = pd.read_csv(\"Bacteria/Bacteria0_fullOccurances.csv\")"
=======
    "archaea_df = pd.read_csv(\"Biology/Data/Archaea/Archaea0_fullOccurances.csv\")\n",
    "\n",
    "#Bacteria\n",
    "bacteria_df = pd.read_csv(\"Biology/Data/Bacteria/Bacteria0_fullOccurances.csv\")"
>>>>>>> b83da4baf396f27183137ffc310f949fe000bcf5
   ]
  },
  {
   "cell_type": "code",
<<<<<<< HEAD
   "execution_count": 12,
=======
   "execution_count": 4,
>>>>>>> b83da4baf396f27183137ffc310f949fe000bcf5
   "metadata": {},
   "outputs": [
    {
     "data": {
      "text/html": [
       "<div>\n",
       "<style scoped>\n",
       "    .dataframe tbody tr th:only-of-type {\n",
       "        vertical-align: middle;\n",
       "    }\n",
       "\n",
       "    .dataframe tbody tr th {\n",
       "        vertical-align: top;\n",
       "    }\n",
       "\n",
       "    .dataframe thead th {\n",
       "        text-align: right;\n",
       "    }\n",
       "</style>\n",
       "<table border=\"1\" class=\"dataframe\">\n",
       "  <thead>\n",
       "    <tr style=\"text-align: right;\">\n",
       "      <th></th>\n",
       "      <th>Frags</th>\n",
       "      <th>Occurances</th>\n",
       "    </tr>\n",
       "  </thead>\n",
       "  <tbody>\n",
       "    <tr>\n",
       "      <th>0</th>\n",
       "      <td>[#6]-[#6](=[#6]-[#6]-[#6]-[#6](-[#6]-1-[#6]-[#...</td>\n",
       "      <td>1</td>\n",
       "    </tr>\n",
       "    <tr>\n",
       "      <th>1</th>\n",
       "      <td>[#6]-[#6](-[#6](-[#8])=[#8])=[#6]-[#6]=[#6](-[...</td>\n",
       "      <td>1</td>\n",
       "    </tr>\n",
       "    <tr>\n",
       "      <th>2</th>\n",
       "      <td>[#6]-[#6](=[#6]-[#6]-[#6]-[#6](-[#6]-1-[#6]-[#...</td>\n",
       "      <td>1</td>\n",
       "    </tr>\n",
       "    <tr>\n",
       "      <th>3</th>\n",
       "      <td>[#6]-[#6](-[#6]-1-[#6]-[#6]-[#6]-2-[#6]-3-[#6]...</td>\n",
       "      <td>1</td>\n",
       "    </tr>\n",
       "    <tr>\n",
       "      <th>4</th>\n",
       "      <td>[#6]-[#6](-[#7]-[#6]-1-[#6](-[#8]-[#6](-[#6](-...</td>\n",
       "      <td>2</td>\n",
       "    </tr>\n",
       "  </tbody>\n",
       "</table>\n",
       "</div>"
      ],
      "text/plain": [
       "                                               Frags  Occurances\n",
       "0  [#6]-[#6](=[#6]-[#6]-[#6]-[#6](-[#6]-1-[#6]-[#...           1\n",
       "1  [#6]-[#6](-[#6](-[#8])=[#8])=[#6]-[#6]=[#6](-[...           1\n",
       "2  [#6]-[#6](=[#6]-[#6]-[#6]-[#6](-[#6]-1-[#6]-[#...           1\n",
       "3  [#6]-[#6](-[#6]-1-[#6]-[#6]-[#6]-2-[#6]-3-[#6]...           1\n",
       "4  [#6]-[#6](-[#7]-[#6]-1-[#6](-[#8]-[#6](-[#6](-...           2"
      ]
     },
<<<<<<< HEAD
     "execution_count": 12,
=======
     "execution_count": 4,
>>>>>>> b83da4baf396f27183137ffc310f949fe000bcf5
     "metadata": {},
     "output_type": "execute_result"
    }
   ],
   "source": [
    "archaea_df.head()"
   ]
  },
  {
<<<<<<< HEAD
=======
   "cell_type": "code",
   "execution_count": 21,
   "metadata": {},
   "outputs": [
    {
     "name": "stdout",
     "output_type": "stream",
     "text": [
      "               Frags  Occurances\n",
      "19445       [#6]-[*]       17459\n",
      "19444      [#6]-[#6]       16634\n",
      "19443   [*]-[#6]-[*]       16142\n",
      "19442  [#6]-[#6]-[*]       15921\n",
      "19441       [#8]-[*]       14986\n"
     ]
    }
   ],
   "source": [
    "test = archaea_df.sort_values([\"Occurances\"], ascending=[0])\n",
    "print(test.head())"
   ]
  },
  {
   "cell_type": "code",
   "execution_count": 23,
   "metadata": {},
   "outputs": [
    {
     "data": {
      "text/plain": [
       "Text(0,0.5,'Occurances in KEGG')"
      ]
     },
     "execution_count": 23,
     "metadata": {},
     "output_type": "execute_result"
    },
    {
     "data": {
      "image/png": "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\n",
      "text/plain": [
       "<Figure size 432x288 with 1 Axes>"
      ]
     },
     "metadata": {
      "needs_background": "light"
     },
     "output_type": "display_data"
    }
   ],
   "source": [
    "plt.plot(test[\"Occurances\"])\n",
    "plt.title(\"Archaea Fragment Occurances\")\n",
    "plt.xlabel(\"Rank Order\")\n",
    "plt.ylabel(\"Occurances in KEGG\")"
   ]
  },
  {
>>>>>>> b83da4baf396f27183137ffc310f949fe000bcf5
   "cell_type": "markdown",
   "metadata": {},
   "source": [
    "# PowerLaw tests"
   ]
  },
  {
   "cell_type": "code",
<<<<<<< HEAD
   "execution_count": 19,
=======
   "execution_count": 5,
>>>>>>> b83da4baf396f27183137ffc310f949fe000bcf5
   "metadata": {},
   "outputs": [
    {
     "name": "stderr",
     "output_type": "stream",
     "text": [
<<<<<<< HEAD
      "Calculating best minimal value for power law fit\n"
=======
      "Calculating best minimal value for power law fit\n",
      "/Users/John/anaconda2/lib/python2.7/site-packages/powerlaw.py:700: RuntimeWarning: invalid value encountered in divide\n",
      "  (Theoretical_CDF * (1 - Theoretical_CDF))\n"
>>>>>>> b83da4baf396f27183137ffc310f949fe000bcf5
     ]
    },
    {
     "name": "stdout",
     "output_type": "stream",
     "text": [
      "2.747927338653702\n",
      "1499.0\n",
      "(-26.166045919929992, 5.700517340267158e-06)\n"
     ]
    }
   ],
   "source": [
    "results = powerlaw.Fit(archaea_df[\"Occurances\"].tolist())\n",
    "print(results.power_law.alpha)\n",
    "print(results.power_law.xmin)\n",
    "R, p = results.distribution_compare('power_law', 'lognormal')\n",
    "print(R, p) #R is negative if the second fit is better, p is significant value for that direction)"
   ]
  },
  {
   "cell_type": "code",
<<<<<<< HEAD
   "execution_count": 18,
=======
   "execution_count": 6,
>>>>>>> b83da4baf396f27183137ffc310f949fe000bcf5
   "metadata": {},
   "outputs": [
    {
     "name": "stderr",
     "output_type": "stream",
     "text": [
      "Calculating best minimal value for power law fit\n"
     ]
    },
    {
     "name": "stdout",
     "output_type": "stream",
     "text": [
      "3.0274202753659405\n",
<<<<<<< HEAD
      "1756.0\n"
=======
      "1756.0\n",
      "(-8.674940924283929, 0.007473220122468471)\n"
>>>>>>> b83da4baf396f27183137ffc310f949fe000bcf5
     ]
    }
   ],
   "source": [
    "results = powerlaw.Fit(bacteria_df[\"Occurances\"].tolist())\n",
    "print(results.power_law.alpha)\n",
<<<<<<< HEAD
    "print(results.power_law.xmin)"
=======
    "print(results.power_law.xmin)\n",
    "R, p = results.distribution_compare('power_law', 'lognormal')\n",
    "print(R, p) #R is negative if the second fit is better, p is significant value for that direction)"
   ]
  },
  {
   "cell_type": "code",
   "execution_count": 30,
   "metadata": {},
   "outputs": [
    {
     "data": {
      "text/plain": [
       "<matplotlib.legend.Legend at 0x1a26067e90>"
      ]
     },
     "execution_count": 30,
     "metadata": {},
     "output_type": "execute_result"
    },
    {
     "data": {
      "image/png": "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\n",
      "text/plain": [
       "<Figure size 432x288 with 1 Axes>"
      ]
     },
     "metadata": {
      "needs_background": "light"
     },
     "output_type": "display_data"
    }
   ],
   "source": [
    "powerlaw.plot_pdf(archaea_df[\"Occurances\"].tolist(), color=\"b\", marker=\"o\", label=\"Archaea Occurences\")\n",
    "results.plot_pdf(color=\"r\", linewidth=2, label=\"Modeled Power Law Fit\")\n",
    "plt.xlabel(\"Frquency\")\n",
    "plt.ylabel(\"PowerLaw fit\")\n",
    "plt.legend()"
>>>>>>> b83da4baf396f27183137ffc310f949fe000bcf5
   ]
  },
  {
   "cell_type": "markdown",
   "metadata": {},
   "source": [
    "# Distribution Matching\n",
    "\n",
    "Using https://towardsdatascience.com/identify-your-datas-distribution-d76062fc0802 as a guide"
   ]
  },
  {
   "cell_type": "code",
<<<<<<< HEAD
   "execution_count": 34,
=======
   "execution_count": 7,
>>>>>>> b83da4baf396f27183137ffc310f949fe000bcf5
   "metadata": {},
   "outputs": [],
   "source": [
    "def test_distributions(data):\n",
    "    #Distribution names to test\n",
    "    dist_names = ['weibull_min','norm','weibull_max','beta',\n",
    "                  'invgauss','uniform','gamma','expon',   \n",
    "                  'lognorm','pearson3','triang', 'powerlaw']\n",
    "    \n",
    "    #Split stats into bins\n",
    "    chi_square_statistics = []\n",
    "    # 11 equi-distant bins of observed Data (John's note: probably can be more than 11)\n",
    "    percentile_bins = np.linspace(0,100,11)\n",
    "    percentile_cutoffs = np.percentile(data, percentile_bins)\n",
    "    observed_frequency, bins = (np.histogram(data, bins=percentile_cutoffs))\n",
    "    cum_observed_frequency = np.cumsum(observed_frequency)\n",
    "    \n",
    "    # Loop through candidate distributions\n",
    "    for distribution in dist_names:\n",
    "        # Set up distribution and get fitted distribution parameters\n",
    "        dist = getattr(stats, distribution)\n",
    "        param = dist.fit(data)\n",
    "        print(\"{}\\n{}\\n\".format(dist, param))\n",
    "    \n",
    "        # Get expected counts in percentile bins\n",
    "        # cdf of fitted sistrinution across bins\n",
    "        cdf_fitted = dist.cdf(percentile_cutoffs, *param)\n",
    "        expected_frequency = []\n",
    "        for bin in range(len(percentile_bins)-1):\n",
    "            expected_cdf_area = cdf_fitted[bin+1] - cdf_fitted[bin]\n",
    "            expected_frequency.append(expected_cdf_area)\n",
    "\n",
    "        # Chi-square Statistics\n",
    "        expected_frequency = np.array(expected_frequency) * len(data)\n",
    "        cum_expected_frequency = np.cumsum(expected_frequency)\n",
    "        ss = sum (((cum_expected_frequency - cum_observed_frequency) ** 2) / cum_observed_frequency)\n",
    "        chi_square_statistics.append(ss)\n",
    "\n",
    "\n",
    "    #Sort by minimum ch-square statistics\n",
    "    results = pd.DataFrame()\n",
    "    results['Distribution'] = dist_names\n",
    "    results['chi_square'] = chi_square_statistics\n",
    "    results.sort_values(['chi_square'], inplace=True)\n",
    "\n",
    "\n",
    "    print ('\\nDistributions listed by Betterment of fit:')\n",
    "    print ('............................................')\n",
    "    print (results)"
   ]
  },
  {
   "cell_type": "code",
<<<<<<< HEAD
   "execution_count": 35,
=======
   "execution_count": 8,
>>>>>>> b83da4baf396f27183137ffc310f949fe000bcf5
   "metadata": {},
   "outputs": [
    {
     "name": "stdout",
     "output_type": "stream",
     "text": [
<<<<<<< HEAD
      "<scipy.stats._continuous_distns.weibull_min_gen object at 0x181a56a590>\n",
      "(0.5604698290291747, 0.9999999999999998, 590.0757383211346)\n",
      "\n",
      "<scipy.stats._continuous_distns.norm_gen object at 0x181a4dca90>\n",
      "(457.8858377044122, 987.7976623115657)\n",
      "\n",
      "<scipy.stats._continuous_distns.weibull_max_gen object at 0x181a56a810>\n",
=======
      "<scipy.stats._continuous_distns.weibull_min_gen object at 0x181fdbfe10>\n",
      "(0.5604698290291747, 0.9999999999999998, 590.0757383211346)\n",
      "\n",
      "<scipy.stats._continuous_distns.norm_gen object at 0x181fd99350>\n",
      "(457.8858377044122, 987.7976623115657)\n",
      "\n",
      "<scipy.stats._continuous_distns.weibull_max_gen object at 0x181fdce0d0>\n",
>>>>>>> b83da4baf396f27183137ffc310f949fe000bcf5
      "(0.08792276973412275, 17459.000000000004, 1.748622383233923)\n",
      "\n"
     ]
    },
    {
     "name": "stderr",
     "output_type": "stream",
     "text": [
      "/Users/John/anaconda2/lib/python2.7/site-packages/scipy/stats/_continuous_distns.py:437: RuntimeWarning: invalid value encountered in sqrt\n",
      "  sk = 2*(b-a)*np.sqrt(a + b + 1) / (a + b + 2) / np.sqrt(a*b)\n",
      "/Users/John/anaconda2/lib/python2.7/site-packages/scipy/optimize/minpack.py:163: RuntimeWarning: The iteration is not making good progress, as measured by the \n",
      "  improvement from the last ten iterations.\n",
      "  warnings.warn(msg, RuntimeWarning)\n"
     ]
    },
    {
     "name": "stdout",
     "output_type": "stream",
     "text": [
<<<<<<< HEAD
      "<scipy.stats._continuous_distns.beta_gen object at 0x181a4e9690>\n",
      "(0.7880684960418493, 1913141.200965266, 0.999999999856121, 523474393.0628367)\n",
      "\n",
      "<scipy.stats._continuous_distns.invgauss_gen object at 0x181a5a2850>\n",
      "(8.603869608101604, -7.630039376331928, 54.1053800270066)\n",
      "\n",
      "<scipy.stats._continuous_distns.uniform_gen object at 0x181a5ebf50>\n",
      "(1.0, 17458.0)\n",
      "\n",
      "<scipy.stats._continuous_distns.gamma_gen object at 0x181a587a10>\n",
      "(0.0022081690515239035, 0.9999999999999998, 4.3082750968027295)\n",
      "\n",
      "<scipy.stats._continuous_distns.expon_gen object at 0x181a5601d0>\n",
      "(1.0, 456.8858377044122)\n",
      "\n",
      "<scipy.stats._continuous_distns.lognorm_gen object at 0x181a5bd4d0>\n",
      "(1.9627788212708563, 0.9734711084920569, 102.49017517063083)\n",
      "\n",
      "<scipy.stats._continuous_distns.pearson3_gen object at 0x181a5d8790>\n",
      "(3.0514129140757262, 365.1249767628178, 555.5478282157931)\n",
      "\n",
      "<scipy.stats._continuous_distns.triang_gen object at 0x181a5eb550>\n",
      "(2.0797632071758866e-05, 0.6235132256045637, 17734.78560997493)\n",
      "\n",
      "<scipy.stats._continuous_distns.powerlaw_gen object at 0x181a5d8a10>\n",
=======
      "<scipy.stats._continuous_distns.beta_gen object at 0x181fd99f10>\n",
      "(0.7880684960418493, 1913141.200965266, 0.999999999856121, 523474393.0628367)\n",
      "\n",
      "<scipy.stats._continuous_distns.invgauss_gen object at 0x181fe05110>\n",
      "(8.603869608101604, -7.630039376331928, 54.1053800270066)\n",
      "\n",
      "<scipy.stats._continuous_distns.uniform_gen object at 0x181fe51810>\n",
      "(1.0, 17458.0)\n",
      "\n",
      "<scipy.stats._continuous_distns.gamma_gen object at 0x181fdec2d0>\n",
      "(0.0022081690515239035, 0.9999999999999998, 4.3082750968027295)\n",
      "\n",
      "<scipy.stats._continuous_distns.expon_gen object at 0x181fdb3a50>\n",
      "(1.0, 456.8858377044122)\n",
      "\n",
      "<scipy.stats._continuous_distns.lognorm_gen object at 0x181fe13d50>\n",
      "(1.9627788212708563, 0.9734711084920569, 102.49017517063083)\n",
      "\n",
      "<scipy.stats._continuous_distns.pearson3_gen object at 0x181fe39050>\n",
      "(3.0514129140757262, 365.1249767628178, 555.5478282157931)\n",
      "\n",
      "<scipy.stats._continuous_distns.triang_gen object at 0x181fe47dd0>\n",
      "(2.0797632071758866e-05, 0.6235132256045637, 17734.78560997493)\n",
      "\n",
      "<scipy.stats._continuous_distns.powerlaw_gen object at 0x181fe392d0>\n",
>>>>>>> b83da4baf396f27183137ffc310f949fe000bcf5
      "(0.1943260753910597, 0.9999999999999998, 21671.634547575926)\n",
      "\n",
      "\n",
      "Distributions listed by Betterment of fit:\n",
      "............................................\n",
      "   Distribution    chi_square\n",
      "8       lognorm    213.848249\n",
      "9      pearson3    463.928723\n",
      "4      invgauss   1068.456114\n",
      "3          beta   2567.974084\n",
      "0   weibull_min   6167.933183\n",
      "11     powerlaw  11127.973937\n",
      "7         expon  16045.962274\n",
      "1          norm  57459.153970\n",
      "10       triang  76769.353684\n",
      "6         gamma  79870.398545\n",
      "5       uniform  81733.458095\n",
      "2   weibull_max  87990.418025\n"
     ]
    }
   ],
   "source": [
    "test_distributions(archaea_df[\"Occurances\"])"
   ]
  },
  {
   "cell_type": "code",
<<<<<<< HEAD
   "execution_count": 70,
=======
   "execution_count": 9,
>>>>>>> b83da4baf396f27183137ffc310f949fe000bcf5
   "metadata": {},
   "outputs": [
    {
     "data": {
      "image/png": "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\n",
      "text/plain": [
       "<Figure size 432x288 with 1 Axes>"
      ]
     },
     "metadata": {
      "needs_background": "light"
     },
     "output_type": "display_data"
    }
   ],
   "source": [
    "fig = plt.figure()\n",
    "ax = fig.add_subplot(111)\n",
    "res = stats.probplot(archaea_df[\"Occurances\"], dist=\"lognorm\", plot=ax, sparams=(1,)) \n",
    "#//TODO: what is this shape parameter? (and why does 1 work so well)\n",
    "ax.set_title(\"Probplot for Archaea Data with lognormal distribution with shape parameter 1\")\n",
    "plt.show()"
   ]
  },
  {
   "cell_type": "markdown",
   "metadata": {},
   "source": [
    "# KS Tests"
   ]
  },
  {
   "cell_type": "code",
   "execution_count": 20,
   "metadata": {},
   "outputs": [
    {
     "data": {
      "text/plain": [
       "Ks_2sampResult(statistic=0.032662361819208896, pvalue=8.240777047071099e-12)"
      ]
     },
     "execution_count": 20,
     "metadata": {},
     "output_type": "execute_result"
    }
   ],
   "source": [
    "stats.ks_2samp(archaea_df[\"Occurances\"], bacteria_df[\"Occurances\"])"
   ]
  },
  {
   "cell_type": "markdown",
   "metadata": {},
   "source": [
    "# Anderson-Darling tests"
   ]
  },
  {
   "cell_type": "code",
   "execution_count": 26,
   "metadata": {},
   "outputs": [
    {
     "name": "stderr",
     "output_type": "stream",
     "text": [
      "/Users/John/anaconda2/lib/python2.7/site-packages/scipy/stats/morestats.py:1680: UserWarning: approximate p-value will be computed by extrapolation\n",
      "  warnings.warn(\"approximate p-value will be computed by extrapolation\")\n"
     ]
    },
    {
     "data": {
      "text/plain": [
       "Anderson_ksampResult(statistic=36.81967623494717, critical_values=array([0.325, 1.226, 1.961, 2.718, 3.752]), significance_level=0.006321039557320624)"
      ]
     },
     "execution_count": 26,
     "metadata": {},
     "output_type": "execute_result"
    }
   ],
   "source": [
    "stats.anderson_ksamp([archaea_df[\"Occurances\"].tolist(), bacteria_df[\"Occurances\"].tolist()])"
   ]
  }
 ],
 "metadata": {
  "kernelspec": {
   "display_name": "Python 3",
   "language": "python",
   "name": "python3"
<<<<<<< HEAD
=======
  },
  "language_info": {
   "codemirror_mode": {
    "name": "ipython",
    "version": 2
   },
   "file_extension": ".py",
   "mimetype": "text/x-python",
   "name": "python",
   "nbconvert_exporter": "python",
   "pygments_lexer": "ipython2",
   "version": "2.7.15"
>>>>>>> b83da4baf396f27183137ffc310f949fe000bcf5
  }
 },
 "nbformat": 4,
 "nbformat_minor": 2
}
