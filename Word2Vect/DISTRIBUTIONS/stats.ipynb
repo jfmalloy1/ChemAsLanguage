{
 "cells": [
  {
   "cell_type": "code",
   "execution_count": 6,
   "metadata": {},
   "outputs": [],
   "source": [
    "import powerlaw\n",
    "import scipy.stats as stats\n",
    "import numpy as np\n",
    "import matplotlib.pyplot as plt\n",
    "import pandas as pd"
   ]
  },
  {
   "cell_type": "markdown",
   "metadata": {},
   "source": [
    "# Load distributions"
   ]
  },
  {
   "cell_type": "code",
   "execution_count": 11,
   "metadata": {},
   "outputs": [],
   "source": [
    "#Archaea\n",
    "archaea_df = pd.read_csv(\"Archaea/Archaea0_fullOccurances.csv\")\n",
    "\n",
    "#Bacteria\n",
    "bacteria_df = pd.read_csv(\"Bacteria/Bacteria0_fullOccurances.csv\")"
   ]
  },
  {
   "cell_type": "code",
   "execution_count": 12,
   "metadata": {},
   "outputs": [
    {
     "data": {
      "text/html": [
       "<div>\n",
       "<style scoped>\n",
       "    .dataframe tbody tr th:only-of-type {\n",
       "        vertical-align: middle;\n",
       "    }\n",
       "\n",
       "    .dataframe tbody tr th {\n",
       "        vertical-align: top;\n",
       "    }\n",
       "\n",
       "    .dataframe thead th {\n",
       "        text-align: right;\n",
       "    }\n",
       "</style>\n",
       "<table border=\"1\" class=\"dataframe\">\n",
       "  <thead>\n",
       "    <tr style=\"text-align: right;\">\n",
       "      <th></th>\n",
       "      <th>Frags</th>\n",
       "      <th>Occurances</th>\n",
       "    </tr>\n",
       "  </thead>\n",
       "  <tbody>\n",
       "    <tr>\n",
       "      <th>0</th>\n",
       "      <td>[#6]-[#6](=[#6]-[#6]-[#6]-[#6](-[#6]-1-[#6]-[#...</td>\n",
       "      <td>1</td>\n",
       "    </tr>\n",
       "    <tr>\n",
       "      <th>1</th>\n",
       "      <td>[#6]-[#6](-[#6](-[#8])=[#8])=[#6]-[#6]=[#6](-[...</td>\n",
       "      <td>1</td>\n",
       "    </tr>\n",
       "    <tr>\n",
       "      <th>2</th>\n",
       "      <td>[#6]-[#6](=[#6]-[#6]-[#6]-[#6](-[#6]-1-[#6]-[#...</td>\n",
       "      <td>1</td>\n",
       "    </tr>\n",
       "    <tr>\n",
       "      <th>3</th>\n",
       "      <td>[#6]-[#6](-[#6]-1-[#6]-[#6]-[#6]-2-[#6]-3-[#6]...</td>\n",
       "      <td>1</td>\n",
       "    </tr>\n",
       "    <tr>\n",
       "      <th>4</th>\n",
       "      <td>[#6]-[#6](-[#7]-[#6]-1-[#6](-[#8]-[#6](-[#6](-...</td>\n",
       "      <td>2</td>\n",
       "    </tr>\n",
       "  </tbody>\n",
       "</table>\n",
       "</div>"
      ],
      "text/plain": [
       "                                               Frags  Occurances\n",
       "0  [#6]-[#6](=[#6]-[#6]-[#6]-[#6](-[#6]-1-[#6]-[#...           1\n",
       "1  [#6]-[#6](-[#6](-[#8])=[#8])=[#6]-[#6]=[#6](-[...           1\n",
       "2  [#6]-[#6](=[#6]-[#6]-[#6]-[#6](-[#6]-1-[#6]-[#...           1\n",
       "3  [#6]-[#6](-[#6]-1-[#6]-[#6]-[#6]-2-[#6]-3-[#6]...           1\n",
       "4  [#6]-[#6](-[#7]-[#6]-1-[#6](-[#8]-[#6](-[#6](-...           2"
      ]
     },
     "execution_count": 12,
     "metadata": {},
     "output_type": "execute_result"
    }
   ],
   "source": [
    "archaea_df.head()"
   ]
  },
  {
   "cell_type": "markdown",
   "metadata": {},
   "source": [
    "# PowerLaw tests"
   ]
  },
  {
   "cell_type": "code",
   "execution_count": 19,
   "metadata": {},
   "outputs": [
    {
     "name": "stderr",
     "output_type": "stream",
     "text": [
      "Calculating best minimal value for power law fit\n"
     ]
    },
    {
     "name": "stdout",
     "output_type": "stream",
     "text": [
      "2.747927338653702\n",
      "1499.0\n",
      "(-26.166045919929992, 5.700517340267158e-06)\n"
     ]
    }
   ],
   "source": [
    "results = powerlaw.Fit(archaea_df[\"Occurances\"].tolist())\n",
    "print(results.power_law.alpha)\n",
    "print(results.power_law.xmin)\n",
    "R, p = results.distribution_compare('power_law', 'lognormal')\n",
    "print(R, p) #R is negative if the second fit is better, p is significant value for that direction)"
   ]
  },
  {
   "cell_type": "code",
   "execution_count": 18,
   "metadata": {},
   "outputs": [
    {
     "name": "stderr",
     "output_type": "stream",
     "text": [
      "Calculating best minimal value for power law fit\n"
     ]
    },
    {
     "name": "stdout",
     "output_type": "stream",
     "text": [
      "3.0274202753659405\n",
      "1756.0\n"
     ]
    }
   ],
   "source": [
    "results = powerlaw.Fit(bacteria_df[\"Occurances\"].tolist())\n",
    "print(results.power_law.alpha)\n",
    "print(results.power_law.xmin)"
   ]
  },
  {
   "cell_type": "markdown",
   "metadata": {},
   "source": [
    "# Hypothesis Testing (//TODO)"
   ]
  },
  {
   "cell_type": "markdown",
   "metadata": {},
   "source": [
    "# KS Tests"
   ]
  },
  {
   "cell_type": "code",
   "execution_count": 20,
   "metadata": {},
   "outputs": [
    {
     "data": {
      "text/plain": [
       "Ks_2sampResult(statistic=0.032662361819208896, pvalue=8.240777047071099e-12)"
      ]
     },
     "execution_count": 20,
     "metadata": {},
     "output_type": "execute_result"
    }
   ],
   "source": [
    "stats.ks_2samp(archaea_df[\"Occurances\"], bacteria_df[\"Occurances\"])"
   ]
  },
  {
   "cell_type": "markdown",
   "metadata": {},
   "source": [
    "# Anderson-Darling tests"
   ]
  },
  {
   "cell_type": "code",
   "execution_count": 26,
   "metadata": {},
   "outputs": [
    {
     "name": "stderr",
     "output_type": "stream",
     "text": [
      "/Users/John/anaconda2/lib/python2.7/site-packages/scipy/stats/morestats.py:1680: UserWarning: approximate p-value will be computed by extrapolation\n",
      "  warnings.warn(\"approximate p-value will be computed by extrapolation\")\n"
     ]
    },
    {
     "data": {
      "text/plain": [
       "Anderson_ksampResult(statistic=36.81967623494717, critical_values=array([0.325, 1.226, 1.961, 2.718, 3.752]), significance_level=0.006321039557320624)"
      ]
     },
     "execution_count": 26,
     "metadata": {},
     "output_type": "execute_result"
    }
   ],
   "source": [
    "stats.anderson_ksamp([archaea_df[\"Occurances\"].tolist(), bacteria_df[\"Occurances\"].tolist()])"
   ]
  }
 ],
 "metadata": {
  "kernelspec": {
   "display_name": "Python 3",
   "language": "python",
   "name": "python3"
  }
 },
 "nbformat": 4,
 "nbformat_minor": 2
}
